{
 "cells": [
  {
   "cell_type": "code",
   "execution_count": 4,
   "metadata": {
    "scrolled": true
   },
   "outputs": [
    {
     "name": "stderr",
     "output_type": "stream",
     "text": [
      "Using TensorFlow backend.\n"
     ]
    }
   ],
   "source": [
    "%matplotlib inline\n",
    "from keras.layers.core import Dropout, Flatten, Dense\n",
    "from keras.layers.convolutional import Conv2D, MaxPooling2D\n",
    "from keras.layers.normalization import BatchNormalization\n",
    "from keras.models import Sequential\n",
    "from keras.callbacks import EarlyStopping, ReduceLROnPlateau\n",
    "from keras.optimizers import RMSprop, Adam\n",
    "from keras.losses import binary_crossentropy \n",
    "from keras_preprocessing.image import ImageDataGenerator #for image preprocessing\n",
    "import numpy as np\n",
    "import matplotlib.pyplot as plt\n",
    "import os"
   ]
  },
  {
   "cell_type": "code",
   "execution_count": 5,
   "metadata": {},
   "outputs": [],
   "source": [
    "train_data = r'C:\\Users\\fabio\\Documents\\DataSets\\cell_images\\train_base\\train_data'\n",
    "validation_data = r'C:\\Users\\fabio\\Documents\\DataSets\\cell_images\\train_base\\validation_data'\n",
    "test_data = r'C:\\Users\\fabio\\Documents\\DataSets\\cell_images\\test_data'"
   ]
  },
  {
   "cell_type": "code",
   "execution_count": 6,
   "metadata": {},
   "outputs": [],
   "source": [
    "def loss_val_curves(epochs=0, train_loss=0.0, val_loss=0.0, train_acc=0.0, val_acc=0.0):\n",
    "    plt.plot(epochs, train_loss, 'bo', label='Training Loss')\n",
    "    plt.plot(epochs, val_loss, 'b', label='Validation Loss')\n",
    "    plt.xlabel('Epochs')\n",
    "    plt.ylabel('Loss')\n",
    "    plt.title('Training and Validation Loss')\n",
    "    plt.legend()\n",
    "\n",
    "    plt.show()\n",
    "    plt.clf()\n",
    "\n",
    "    plt.plot(epochs, train_acc, 'bo', label='Training Acc')\n",
    "    plt.plot(epochs, val_acc, 'b', label='Validation Acc')\n",
    "    plt.xlabel('Epochs')\n",
    "    plt.ylabel('Loss')\n",
    "    plt.title('Training and Validation Acc')\n",
    "    plt.legend()\n",
    "\n",
    "    plt.show()\n",
    "    plt.clf()"
   ]
  },
  {
   "cell_type": "code",
   "execution_count": 7,
   "metadata": {},
   "outputs": [],
   "source": [
    "train_batch_size = 100\n",
    "val_batch_size = 55\n",
    "train_data_size = 12000\n",
    "val_data_size = 10780\n",
    "train_steps = train_data_size / train_batch_size\n",
    "val_steps = val_data_size / val_batch_size"
   ]
  },
  {
   "cell_type": "code",
   "execution_count": 8,
   "metadata": {},
   "outputs": [
    {
     "name": "stdout",
     "output_type": "stream",
     "text": [
      "Found 12000 images belonging to 2 classes.\n"
     ]
    }
   ],
   "source": [
    "train_datagen = ImageDataGenerator(rescale=1./255,\n",
    "                                   rotation_range=40,\n",
    "                                   width_shift_range=0.2,\n",
    "                                   horizontal_flip=True,\n",
    "                                   shear_range=0.2,\n",
    "                                   zoom_range=0.2,\n",
    "                                   fill_mode='nearest')\n",
    "\n",
    "train_generator = train_datagen.flow_from_directory(\n",
    "    directory=train_data,\n",
    "    target_size=(60, 60),\n",
    "    class_mode='binary',\n",
    "    batch_size=train_batch_size\n",
    ")"
   ]
  },
  {
   "cell_type": "code",
   "execution_count": 9,
   "metadata": {},
   "outputs": [
    {
     "name": "stdout",
     "output_type": "stream",
     "text": [
      "Found 10780 images belonging to 2 classes.\n"
     ]
    }
   ],
   "source": [
    "validation_datagen = ImageDataGenerator(rescale=1./255)\n",
    "\n",
    "validation_generator = validation_datagen.flow_from_directory(\n",
    "    directory=validation_data,\n",
    "    target_size=(60, 60),\n",
    "    batch_size=val_batch_size,\n",
    "    class_mode='binary'\n",
    ")"
   ]
  },
  {
   "cell_type": "code",
   "execution_count": 10,
   "metadata": {},
   "outputs": [],
   "source": [
    "callback_list = [EarlyStopping(patience=5, monitor='acc')]"
   ]
  },
  {
   "cell_type": "code",
   "execution_count": 11,
   "metadata": {},
   "outputs": [
    {
     "name": "stdout",
     "output_type": "stream",
     "text": [
      "WARNING:tensorflow:From C:\\Users\\fabio\\Anaconda3\\lib\\site-packages\\tensorflow\\python\\framework\\op_def_library.py:263: colocate_with (from tensorflow.python.framework.ops) is deprecated and will be removed in a future version.\n",
      "Instructions for updating:\n",
      "Colocations handled automatically by placer.\n",
      "WARNING:tensorflow:From C:\\Users\\fabio\\Anaconda3\\lib\\site-packages\\keras\\backend\\tensorflow_backend.py:3445: calling dropout (from tensorflow.python.ops.nn_ops) with keep_prob is deprecated and will be removed in a future version.\n",
      "Instructions for updating:\n",
      "Please use `rate` instead of `keep_prob`. Rate should be set to `rate = 1 - keep_prob`.\n"
     ]
    }
   ],
   "source": [
    "model = Sequential([Conv2D(12, (5, 5), activation='relu', input_shape=(60, 60, 3)),\n",
    "                    Conv2D(32, (3, 3), activation='relu'),\n",
    "                    Conv2D(64, (3, 3), activation='relu'),\n",
    "                    MaxPooling2D(2, 2),\n",
    "                    BatchNormalization(),\n",
    "                    Conv2D(128, (3, 3), activation='relu'),\n",
    "                    Dropout(0.1),\n",
    "                    Conv2D(142, (1, 1), activation='relu'),\n",
    "                    Conv2D(152, (1, 1), activation='relu'),\n",
    "                    MaxPooling2D(2, 2),\n",
    "                    Conv2D(164, (1, 1), activation='relu'),\n",
    "                    Conv2D(182, (1, 1), activation='relu'),\n",
    "                    Conv2D(200, (1, 1), activation='relu'),\n",
    "                    MaxPooling2D(2, 2),\n",
    "                    MaxPooling2D(1, 1),\n",
    "                    BatchNormalization(),\n",
    "                    Flatten(),\n",
    "                    Dense(200, activation='relu'),\n",
    "                    Dense(1, activation='sigmoid')])"
   ]
  },
  {
   "cell_type": "code",
   "execution_count": 12,
   "metadata": {},
   "outputs": [],
   "source": [
    "model.compile(loss=binary_crossentropy,\n",
    "              optimizer=Adam(lr=0.001),\n",
    "              metrics=['acc'])"
   ]
  },
  {
   "cell_type": "code",
   "execution_count": 13,
   "metadata": {},
   "outputs": [
    {
     "name": "stdout",
     "output_type": "stream",
     "text": [
      "WARNING:tensorflow:From C:\\Users\\fabio\\Anaconda3\\lib\\site-packages\\tensorflow\\python\\ops\\math_ops.py:3066: to_int32 (from tensorflow.python.ops.math_ops) is deprecated and will be removed in a future version.\n",
      "Instructions for updating:\n",
      "Use tf.cast instead.\n",
      "Epoch 1/15\n",
      "120/120 [==============================] - 571s 5s/step - loss: 0.5321 - acc: 0.7715 - val_loss: 0.6281 - val_acc: 0.8647\n",
      "Epoch 2/15\n",
      "120/120 [==============================] - 79s 655ms/step - loss: 0.2741 - acc: 0.8974 - val_loss: 0.5289 - val_acc: 0.8297\n",
      "Epoch 3/15\n",
      "120/120 [==============================] - 82s 686ms/step - loss: 0.2563 - acc: 0.9038 - val_loss: 1.1158 - val_acc: 0.5454\n",
      "Epoch 4/15\n",
      "120/120 [==============================] - 82s 684ms/step - loss: 0.2177 - acc: 0.9219 - val_loss: 0.3032 - val_acc: 0.9246\n",
      "Epoch 5/15\n",
      "120/120 [==============================] - 88s 736ms/step - loss: 0.2031 - acc: 0.9323 - val_loss: 0.2401 - val_acc: 0.9352\n",
      "Epoch 6/15\n",
      "120/120 [==============================] - 84s 699ms/step - loss: 0.1982 - acc: 0.9315 - val_loss: 0.1947 - val_acc: 0.9481\n",
      "Epoch 7/15\n",
      "120/120 [==============================] - 81s 675ms/step - loss: 0.1869 - acc: 0.9367 - val_loss: 0.1926 - val_acc: 0.9404\n",
      "Epoch 8/15\n",
      "120/120 [==============================] - 81s 678ms/step - loss: 0.1816 - acc: 0.9382 - val_loss: 0.2689 - val_acc: 0.9365\n",
      "Epoch 9/15\n",
      "120/120 [==============================] - 81s 676ms/step - loss: 0.1841 - acc: 0.9383 - val_loss: 0.2084 - val_acc: 0.9423\n",
      "Epoch 10/15\n",
      "120/120 [==============================] - 81s 672ms/step - loss: 0.1826 - acc: 0.9373 - val_loss: 0.2255 - val_acc: 0.9263\n",
      "Epoch 11/15\n",
      "120/120 [==============================] - 83s 692ms/step - loss: 0.1831 - acc: 0.9367 - val_loss: 0.2633 - val_acc: 0.9058\n",
      "Epoch 12/15\n",
      "120/120 [==============================] - 81s 677ms/step - loss: 0.1695 - acc: 0.9427 - val_loss: 0.1697 - val_acc: 0.9511\n",
      "Epoch 13/15\n",
      "120/120 [==============================] - 82s 686ms/step - loss: 0.1686 - acc: 0.9422 - val_loss: 0.2314 - val_acc: 0.9226\n",
      "Epoch 14/15\n",
      "120/120 [==============================] - 82s 685ms/step - loss: 0.1749 - acc: 0.9416 - val_loss: 0.3419 - val_acc: 0.8748\n",
      "Epoch 15/15\n",
      "120/120 [==============================] - 83s 690ms/step - loss: 0.1593 - acc: 0.9436 - val_loss: 0.1871 - val_acc: 0.9479\n"
     ]
    }
   ],
   "source": [
    "hist = model.fit_generator(train_generator,\n",
    "                           steps_per_epoch=train_steps,\n",
    "                           epochs=15,\n",
    "                           validation_steps=val_steps,\n",
    "                           validation_data=validation_generator,\n",
    "                           callbacks=callback_list,\n",
    "                           )"
   ]
  },
  {
   "cell_type": "code",
   "execution_count": 14,
   "metadata": {},
   "outputs": [],
   "source": [
    "loss = hist.history['loss']\n",
    "val_loss = hist.history['val_loss']\n",
    "\n",
    "train_acc = hist.history['acc']\n",
    "val_acc = hist.history['val_acc']\n",
    "\n",
    "epochs = range(1, 1 + len(loss))"
   ]
  },
  {
   "cell_type": "code",
   "execution_count": 15,
   "metadata": {
    "scrolled": false
   },
   "outputs": [
    {
     "data": {
      "image/png": "[encoded data removed]",
      "text/plain": [
       "<Figure size 432x288 with 1 Axes>"
      ]
     },
     "metadata": {
      "needs_background": "light"
     },
     "output_type": "display_data"
    },
    {
     "data": {
      "image/png": "[encoded data removed]",
      "text/plain": [
       "<Figure size 432x288 with 1 Axes>"
      ]
     },
     "metadata": {
      "needs_background": "light"
     },
     "output_type": "display_data"
    },
    {
     "data": {
      "text/plain": [
       "<Figure size 432x288 with 0 Axes>"
      ]
     },
     "metadata": {},
     "output_type": "display_data"
    }
   ],
   "source": [
    "loss_val_curves(epochs, train_loss=loss, train_acc=train_acc, val_loss=val_loss, val_acc=val_acc)"
   ]
  },
  {
   "cell_type": "code",
   "execution_count": null,
   "metadata": {},
   "outputs": [],
   "source": [
    "#Fits the model using a pretrained convnet."
   ]
  },
  {
   "cell_type": "code",
   "execution_count": null,
   "metadata": {},
   "outputs": [],
   "source": [
    "from keras.applications.vgg16 import VGG16\n",
    "VGG16(weights='imagenet',\n",
    "     include_top=False,\n",
    "     input_shape=(60, 60, 3)).summary()"
   ]
  },
  {
   "cell_type": "code",
   "execution_count": 1,
   "metadata": {},
   "outputs": [],
   "source": [
    "def pretrained_model(num_units, trainable=False, output_units=1, act='sigmoid'):\n",
    "    conv_base = VGG16(weights='imagenet',\n",
    "                      include_top=False,\n",
    "                      input_shape=(60, 60, 3))\n",
    "    model = Sequential([conv_base,\n",
    "                        Flatten(),\n",
    "                        Dense(num_units, activation='relu'),\n",
    "                        Dense(output_units, activation=act)])\n",
    "    model.trainable = trainable\n",
    "    return model"
   ]
  },
  {
   "cell_type": "code",
   "execution_count": null,
   "metadata": {},
   "outputs": [],
   "source": [
    "pretrained_mod = pretrained_model(num_units=150, trainable=True)"
   ]
  },
  {
   "cell_type": "code",
   "execution_count": null,
   "metadata": {},
   "outputs": [],
   "source": [
    "pretrained_mod.compile(loss=binary_crossentropy,\n",
    "                       optimizer=Adam(lr=0.001),\n",
    "                       metrics=['acc'])"
   ]
  },
  {
   "cell_type": "code",
   "execution_count": null,
   "metadata": {},
   "outputs": [],
   "source": [
    "pretrained_hist = pretrained_mod.fit_generator(train_generator,\n",
    "                                    steps_per_epoch=train_steps,\n",
    "                                    epochs=15,\n",
    "                                    validation_steps=val_steps,\n",
    "                                    validation_data=validation_generator,\n",
    "                                    callbacks=callback_list,\n",
    "                                   )"
   ]
  },
  {
   "cell_type": "code",
   "execution_count": null,
   "metadata": {},
   "outputs": [],
   "source": [
    "loss = pretrained_hist.history['loss']\n",
    "val_loss = pretrained_hist.history['val_loss']\n",
    "\n",
    "train_acc = pretrained_hist.history['acc']\n",
    "val_acc = pretrained_hist.history['val_acc']\n",
    "\n",
    "epochs = range(1, 1 + len(loss))"
   ]
  },
  {
   "cell_type": "code",
   "execution_count": null,
   "metadata": {
    "scrolled": false
   },
   "outputs": [],
   "source": [
    "loss_val_curves(epochs, train_loss=loss, train_acc=train_acc, val_loss=val_loss, val_acc=val_acc)"
   ]
  },
  {
   "cell_type": "code",
   "execution_count": null,
   "metadata": {},
   "outputs": [],
   "source": [
    "###############################################"
   ]
  },
  {
   "cell_type": "code",
   "execution_count": null,
   "metadata": {},
   "outputs": [],
   "source": [
    "#Evaluates the model's accuracy on the test set."
   ]
  },
  {
   "cell_type": "code",
   "execution_count": 16,
   "metadata": {
    "scrolled": true
   },
   "outputs": [
    {
     "name": "stdout",
     "output_type": "stream",
     "text": [
      "Found 4778 images belonging to 2 classes.\n"
     ]
    }
   ],
   "source": [
    "test_datagen = ImageDataGenerator(rescale=1./255)\n",
    "test_generator = test_datagen.flow_from_directory(directory=test_data,\n",
    "                                                  target_size=(60, 60),\n",
    "                                                  batch_size=1,\n",
    "                                                  class_mode='binary',\n",
    "                                                  shuffle=False,\n",
    "                                                  color_mode='rgb'\n",
    "                                                  )"
   ]
  },
  {
   "cell_type": "code",
   "execution_count": 17,
   "metadata": {
    "scrolled": false
   },
   "outputs": [],
   "source": [
    "test_samples = 4778 \n",
    "probabilities = model.predict_generator(test_generator, steps=test_samples)"
   ]
  },
  {
   "cell_type": "code",
   "execution_count": 18,
   "metadata": {},
   "outputs": [],
   "source": [
    "ground_truth = test_generator.classes"
   ]
  },
  {
   "cell_type": "code",
   "execution_count": 29,
   "metadata": {},
   "outputs": [],
   "source": [
    "def convert_to_class(probabilities):\n",
    "    classes = []\n",
    "    for i in probabilities:\n",
    "        if i > 0.5:\n",
    "            classes.append(1)\n",
    "        else:\n",
    "            classes.append(0)\n",
    "    return classes"
   ]
  },
  {
   "cell_type": "code",
   "execution_count": 22,
   "metadata": {},
   "outputs": [
    {
     "name": "stdout",
     "output_type": "stream",
     "text": [
      "Test Accuracy: 0.95\n"
     ]
    }
   ],
   "source": [
    "from sklearn.metrics import accuracy_score\n",
    "predictions = np.array(convert_to_class(probabilities))\n",
    "print('Test Accuracy: %.2f' % accuracy_score(ground_truth, predictions))"
   ]
  },
  {
   "cell_type": "code",
   "execution_count": 24,
   "metadata": {},
   "outputs": [],
   "source": [
    "model.save(r'C:\\Users\\fabio\\Documents\\models\\malaria_detection_model.h5')"
   ]
  },
  {
   "cell_type": "code",
   "execution_count": 25,
   "metadata": {},
   "outputs": [],
   "source": [
    "from keras.models import load_model\n",
    "loaded_model = load_model(r'C:\\Users\\fabio\\Documents\\models\\malaria_detection_model.h5')"
   ]
  },
  {
   "cell_type": "code",
   "execution_count": 26,
   "metadata": {},
   "outputs": [],
   "source": [
    "probabilities = loaded_model.predict_generator(test_generator, steps=test_samples)"
   ]
  },
  {
   "cell_type": "code",
   "execution_count": 31,
   "metadata": {},
   "outputs": [],
   "source": [
    "predictions = np.array(convert_to_class(probabilities))"
   ]
  },
  {
   "cell_type": "code",
   "execution_count": 32,
   "metadata": {},
   "outputs": [
    {
     "name": "stdout",
     "output_type": "stream",
     "text": [
      "Test Accuracy: 0.95\n"
     ]
    }
   ],
   "source": [
    "print('Test Accuracy: %.2f' % accuracy_score(ground_truth, predictions))"
   ]
  }
 ],
 "metadata": {
  "kernelspec": {
   "display_name": "Python 3",
   "language": "python",
   "name": "python3"
  },
  "language_info": {
   "codemirror_mode": {
    "name": "ipython",
    "version": 3
   },
   "file_extension": ".py",
   "mimetype": "text/x-python",
   "name": "python",
   "nbconvert_exporter": "python",
   "pygments_lexer": "ipython3",
   "version": "3.7.3"
  }
 },
 "nbformat": 4,
 "nbformat_minor": 2
}
